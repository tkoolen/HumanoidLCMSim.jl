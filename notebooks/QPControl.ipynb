{
 "cells": [
  {
   "cell_type": "code",
   "execution_count": null,
   "metadata": {},
   "outputs": [],
   "source": [
    "using Compat\n",
    "using QPControl\n",
    "using RigidBodyDynamics\n",
    "using AtlasRobot\n",
    "using HumanoidLCMSim\n",
    "using HumanoidLCMSim.AtlasSim\n",
    "using JSExpr # FIXME: https://github.com/JunoLab/Blink.jl/issues/134"
   ]
  },
  {
   "cell_type": "code",
   "execution_count": null,
   "metadata": {},
   "outputs": [],
   "source": [
    "# load URDF\n",
    "const mechanism = AtlasSim.addflatground!(AtlasRobot.mechanism());"
   ]
  },
  {
   "cell_type": "code",
   "execution_count": null,
   "metadata": {},
   "outputs": [],
   "source": [
    "# create optimizer\n",
    "using MathOptInterface\n",
    "using OSQP.MathOptInterfaceOSQP\n",
    "const MOI = MathOptInterface\n",
    "const optimizer = OSQPOptimizer()\n",
    "MOI.set!(optimizer, OSQPSettings.Verbose(), false)\n",
    "MOI.set!(optimizer, OSQPSettings.EpsAbs(), 1e-5)\n",
    "MOI.set!(optimizer, OSQPSettings.EpsRel(), 1e-5)\n",
    "MOI.set!(optimizer, OSQPSettings.MaxIter(), 5000)\n",
    "MOI.set!(optimizer, OSQPSettings.AdaptiveRhoInterval(), 25) # required for deterministic behavior"
   ]
  },
  {
   "cell_type": "code",
   "execution_count": null,
   "metadata": {},
   "outputs": [],
   "source": [
    "# create low level controller\n",
    "const lowlevel = MomentumBasedController{4}(mechanism, optimizer);\n",
    "for body in bodies(mechanism)\n",
    "    for point in RigidBodyDynamics.contact_points(body)\n",
    "        position = RigidBodyDynamics.Contact.location(point)\n",
    "        normal = FreeVector3D(default_frame(body), 0.0, 0.0, 1.0)\n",
    "        μ = point.model.friction.μ\n",
    "        contact = addcontact!(lowlevel, body, position, normal, μ)\n",
    "        contact.maxnormalforce[] = 1e6 # TODO\n",
    "        contact.weight[] = 1e-3\n",
    "    end\n",
    "end"
   ]
  },
  {
   "cell_type": "code",
   "execution_count": null,
   "metadata": {},
   "outputs": [],
   "source": [
    "# create standing controller\n",
    "info = AtlasSim.atlasrobotinfo(mechanism)\n",
    "nominalstate = MechanismState(mechanism)\n",
    "AtlasSim.initialize!(nominalstate, info)\n",
    "pelvis = successor(info.floatingjoint, mechanism)\n",
    "comref = center_of_mass(nominalstate) - FreeVector3D(root_frame(mechanism), 0., 0., 0.05)\n",
    "const standingcontroller = StandingController(\n",
    "    lowlevel, collect(values(info.feet)), pelvis, nominalstate, comref=comref);"
   ]
  },
  {
   "cell_type": "code",
   "execution_count": null,
   "metadata": {},
   "outputs": [],
   "source": [
    "# create LCM control publisher\n",
    "const publisher = LCMControlPublisher(info, standingcontroller;\n",
    "    robot_state_channel=\"EST_ROBOT_STATE\",\n",
    "    robot_command_channel=\"ATLAS_COMMAND\");"
   ]
  },
  {
   "cell_type": "code",
   "execution_count": null,
   "metadata": {},
   "outputs": [],
   "source": [
    "# start listening for state messages and publishing command messages in response\n",
    "handle(publisher, async=true);"
   ]
  },
  {
   "cell_type": "code",
   "execution_count": null,
   "metadata": {},
   "outputs": [],
   "source": [
    "# run simulation\n",
    "using HumanoidLCMSim\n",
    "sol = AtlasSim.run(controlΔt = 1 / 500, final_time = 5.0);"
   ]
  },
  {
   "cell_type": "code",
   "execution_count": null,
   "metadata": {},
   "outputs": [],
   "source": [
    "# checks\n",
    "using Compat.Test\n",
    "finalstate = MechanismState(mechanism)\n",
    "copyto!(finalstate, sol.u[end])\n",
    "@test sol.retcode == :Success\n",
    "@test center_of_mass(finalstate) ≈ comref atol=2e-2\n",
    "@test norm(velocity(finalstate)) ≈ 0 atol=5e-3"
   ]
  },
  {
   "cell_type": "code",
   "execution_count": null,
   "metadata": {},
   "outputs": [],
   "source": []
  }
 ],
 "metadata": {
  "kernelspec": {
   "display_name": "Julia 0.6.4",
   "language": "julia",
   "name": "julia-0.6"
  },
  "language_info": {
   "file_extension": ".jl",
   "mimetype": "application/julia",
   "name": "julia",
   "version": "0.6.4"
  }
 },
 "nbformat": 4,
 "nbformat_minor": 2
}
