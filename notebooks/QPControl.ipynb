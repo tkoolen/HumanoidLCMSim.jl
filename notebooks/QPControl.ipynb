{
 "cells": [
  {
   "cell_type": "code",
   "execution_count": 1,
   "metadata": {},
   "outputs": [
    {
     "data": {
      "text/html": [
       "    <script class='js-collapse-script'>\n",
       "        var curMatch =\n",
       "            window.location.href\n",
       "            .match(/(.*?)\\/notebooks\\/.*\\.ipynb/);\n",
       "\n",
       "        curMatch = curMatch ||\n",
       "            window.location.href\n",
       "            .match(/(.*?)\\/apps\\/.*\\.ipynb/);\n",
       "\n",
       "        if ( curMatch ) {\n",
       "            $('head').append('<base href=\"' + curMatch[1] + '/\">');\n",
       "        }\n",
       "    </script>\n"
      ],
      "text/plain": [
       "HTML{String}(\"    <script class='js-collapse-script'>\\n        var curMatch =\\n            window.location.href\\n            .match(/(.*?)\\\\/notebooks\\\\/.*\\\\.ipynb/);\\n\\n        curMatch = curMatch ||\\n            window.location.href\\n            .match(/(.*?)\\\\/apps\\\\/.*\\\\.ipynb/);\\n\\n        if ( curMatch ) {\\n            \\$('head').append('<base href=\\\"' + curMatch[1] + '/\\\">');\\n        }\\n    </script>\\n\")"
      ]
     },
     "metadata": {},
     "output_type": "display_data"
    },
    {
     "data": {
      "text/html": [
       "<script class='js-collapse-script' src='/assetserver/9ed50fe60e4c3cfba5d8d51afc0a1ba695b21d72-assets/webio/dist/bundle.js'></script>"
      ],
      "text/plain": [
       "HTML{String}(\"<script class='js-collapse-script' src='/assetserver/9ed50fe60e4c3cfba5d8d51afc0a1ba695b21d72-assets/webio/dist/bundle.js'></script>\")"
      ]
     },
     "metadata": {},
     "output_type": "display_data"
    },
    {
     "data": {
      "text/html": [
       "<script class='js-collapse-script' src='/assetserver/9ed50fe60e4c3cfba5d8d51afc0a1ba695b21d72-assets/providers/ijulia_setup.js'></script>"
      ],
      "text/plain": [
       "HTML{String}(\"<script class='js-collapse-script' src='/assetserver/9ed50fe60e4c3cfba5d8d51afc0a1ba695b21d72-assets/providers/ijulia_setup.js'></script>\")"
      ]
     },
     "metadata": {},
     "output_type": "display_data"
    },
    {
     "data": {
      "text/html": [
       "  <script class='js-collapse-script'>\n",
       "    $('.js-collapse-script').parent('.output_subarea').css('padding', '0');\n",
       "  </script>\n"
      ],
      "text/plain": [
       "HTML{String}(\"  <script class='js-collapse-script'>\\n    \\$('.js-collapse-script').parent('.output_subarea').css('padding', '0');\\n  </script>\\n\")"
      ]
     },
     "metadata": {},
     "output_type": "display_data"
    },
    {
     "name": "stderr",
     "output_type": "stream",
     "text": [
      "\u001b[1m\u001b[36mINFO: \u001b[39m\u001b[22m\u001b[36mLoading HttpServer methods...\n",
      "\u001b[39mWARNING: using Juno.input in module InteractBase conflicts with an existing identifier.\n"
     ]
    }
   ],
   "source": [
    "using Compat\n",
    "using QPControl\n",
    "using RigidBodyDynamics\n",
    "using AtlasRobot\n",
    "using HumanoidLCMSim\n",
    "using HumanoidLCMSim.AtlasSim\n",
    "\n",
    "# load URDF\n",
    "mechanism = AtlasSim.addflatground!(AtlasRobot.mechanism());\n",
    "\n",
    "# create optimizer\n",
    "using MathOptInterface\n",
    "using OSQP.MathOptInterfaceOSQP\n",
    "const MOI = MathOptInterface\n",
    "optimizer = OSQPOptimizer()\n",
    "MOI.set!(optimizer, OSQPSettings.Verbose(), false)\n",
    "MOI.set!(optimizer, OSQPSettings.EpsAbs(), 1e-5)\n",
    "MOI.set!(optimizer, OSQPSettings.EpsRel(), 1e-5)\n",
    "MOI.set!(optimizer, OSQPSettings.MaxIter(), 5000)\n",
    "MOI.set!(optimizer, OSQPSettings.AdaptiveRhoInterval(), 25) # required for deterministic behavior\n",
    "sleep(0.5)\n",
    "\n",
    "# create low level controller\n",
    "lowlevel = MomentumBasedController{4}(mechanism, optimizer);\n",
    "for body in bodies(mechanism)\n",
    "    for point in RigidBodyDynamics.contact_points(body)\n",
    "        position = RigidBodyDynamics.Contact.location(point)\n",
    "        normal = FreeVector3D(default_frame(body), 0.0, 0.0, 1.0)\n",
    "        μ = point.model.friction.μ\n",
    "        contact = addcontact!(lowlevel, body, position, normal, μ)\n",
    "        contact.maxnormalforce[] = 1e6 # TODO\n",
    "        contact.weight[] = 1e-3\n",
    "    end\n",
    "end\n",
    "\n",
    "# create standing controller\n",
    "info = AtlasSim.atlasrobotinfo(mechanism)\n",
    "nominalstate = MechanismState(mechanism)\n",
    "AtlasSim.initialize!(nominalstate, info)\n",
    "pelvis = successor(info.floatingjoint, mechanism)\n",
    "comref = center_of_mass(nominalstate) - FreeVector3D(root_frame(mechanism), 0., 0., 0.05)\n",
    "standingcontroller = StandingController(lowlevel, collect(values(info.feet)), pelvis, nominalstate, comref=comref);\n",
    "\n",
    "# create LCM control publisher\n",
    "publisher = LCMControlPublisher(info, standingcontroller;\n",
    "    robot_state_channel=\"EST_ROBOT_STATE\",\n",
    "    robot_command_channel=\"ATLAS_COMMAND\");"
   ]
  },
  {
   "cell_type": "code",
   "execution_count": 2,
   "metadata": {},
   "outputs": [
    {
     "data": {
      "text/plain": [
       "Task (queued) @0x00007f1222159270"
      ]
     },
     "execution_count": 2,
     "metadata": {},
     "output_type": "execute_result"
    }
   ],
   "source": [
    "handle(publisher, async=true)"
   ]
  },
  {
   "cell_type": "code",
   "execution_count": 3,
   "metadata": {},
   "outputs": [
    {
     "name": "stdout",
     "output_type": "stream",
     "text": [
      "Publishing START_MIT_STAND\n"
     ]
    }
   ],
   "source": [
    "# run simulation\n",
    "using HumanoidLCMSim\n",
    "controlΔt = 1 / 500\n",
    "sol = AtlasSim.run(controlΔt = controlΔt, final_time = 10.0);\n",
    "flush(stdout)"
   ]
  },
  {
   "cell_type": "code",
   "execution_count": 4,
   "metadata": {},
   "outputs": [
    {
     "data": {
      "text/plain": [
       "\u001b[1m\u001b[32mTest Passed\u001b[39m\u001b[22m"
      ]
     },
     "execution_count": 4,
     "metadata": {},
     "output_type": "execute_result"
    },
    {
     "name": "stdout",
     "output_type": "stream",
     "text": [
      "Simulated 10.0 s in 16.178427033 s (0.6181070619289791 x realtime).\n"
     ]
    }
   ],
   "source": [
    "# checks\n",
    "using Compat.Test\n",
    "finalstate = MechanismState(mechanism)\n",
    "copyto!(finalstate, sol.u[end])\n",
    "@test sol.retcode == :Success\n",
    "@test center_of_mass(finalstate) ≈ comref atol=2e-2\n",
    "@test norm(velocity(finalstate)) ≈ 0 atol=1e-5"
   ]
  },
  {
   "cell_type": "code",
   "execution_count": null,
   "metadata": {},
   "outputs": [],
   "source": []
  }
 ],
 "metadata": {
  "kernelspec": {
   "display_name": "Julia 0.6.4",
   "language": "julia",
   "name": "julia-0.6"
  },
  "language_info": {
   "file_extension": ".jl",
   "mimetype": "application/julia",
   "name": "julia",
   "version": "0.6.4"
  }
 },
 "nbformat": 4,
 "nbformat_minor": 2
}
